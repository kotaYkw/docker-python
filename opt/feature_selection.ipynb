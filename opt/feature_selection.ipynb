{
 "cells": [
  {
   "cell_type": "code",
   "execution_count": 7,
   "id": "56a08b86-6c14-4436-a1f8-849aeaa6878c",
   "metadata": {},
   "outputs": [],
   "source": [
    "import numpy as np\n",
    "import pandas as pd\n",
    "from sklearn.model_selection import train_test_split\n",
    "\n",
    "data = pd.read_csv('input/sample-data/train.csv')\n",
    "\n",
    "data['date'] = pd.to_datetime(data['date'], format='%Y/%m/%d')\n",
    "data = data.sort_values('date').reset_index()\n",
    "\n",
    "train_x, test_x = train_test_split(data, train_size=0.8, shuffle=False)\n",
    "\n",
    "train_y = train_x['target']\n",
    "train_x = train_x.drop('target', axis=1)\n",
    "\n",
    "test_y = test_x['target']\n",
    "test_x = test_x.drop('target', axis=1)\n",
    "\n",
    "train_x = train_x.select_dtypes(include=[float, int])"
   ]
  },
  {
   "cell_type": "markdown",
   "id": "b994a6ef-bd41-41b4-a9c3-67d5c66b9fea",
   "metadata": {},
   "source": [
    "## 相関係数"
   ]
  },
  {
   "cell_type": "code",
   "execution_count": 11,
   "id": "6afc9e02-0563-4e0e-84a2-24ddc89cd5ff",
   "metadata": {},
   "outputs": [
    {
     "name": "stdout",
     "output_type": "stream",
     "text": [
      "['medical_info_c1' 'medical_info_c2' 'medical_keyword_5' 'medical_info_a1'\n",
      " 'medical_keyword_4'] [       nan        nan 0.22001428 0.21082613 0.16699822]\n",
      "['medical_info_c1' 'medical_info_c2' 'medical_keyword_5' 'medical_info_a1'\n",
      " 'medical_keyword_4'] [       nan        nan 0.22001428 0.21286561 0.16699822]\n"
     ]
    }
   ],
   "source": [
    "import scipy.stats as st\n",
    "\n",
    "# 相関係数\n",
    "corrs = []\n",
    "for c in train_x.columns:\n",
    "    corr = np.corrcoef(train_x[c], train_y)[0, 1]\n",
    "    corrs.append(corr)\n",
    "corrs = np.array(corrs)\n",
    "\n",
    "# スピアマンの順位相関係数\n",
    "corrs_sp = []\n",
    "for c in train_x.columns:\n",
    "    corr_sp = st.spearmanr(train_x[c], train_y).correlation\n",
    "    corrs_sp.append(corr_sp)\n",
    "corrs_sp = np.array(corrs_sp)\n",
    "\n",
    "# 重要度の出力\n",
    "idx = np.argsort(np.abs(corrs))[::-1]\n",
    "top_cols, top_importances = train_x.columns.values[idx][:5], corrs[idx][:5]\n",
    "print(top_cols, top_importances)\n",
    "\n",
    "idx = np.argsort(np.abs(corrs_sp))[::-1]\n",
    "top_cols, top_importances = train_x.columns.values[idx][:5], corrs_sp[idx][:5]\n",
    "print(top_cols, top_importances)"
   ]
  },
  {
   "cell_type": "markdown",
   "id": "e60842f9-6657-41ba-8b02-1a34e1264d45",
   "metadata": {},
   "source": [
    "## カイ二乗統計量"
   ]
  },
  {
   "cell_type": "code",
   "execution_count": 20,
   "id": "e38c3fbf-1bbe-47b9-8f17-173a595f29f3",
   "metadata": {},
   "outputs": [
    {
     "name": "stdout",
     "output_type": "stream",
     "text": [
      "['medical_keyword_5' 'medical_keyword_4' 'medical_keyword_3'\n",
      " 'medical_keyword_2' 'age'] [379.65048469 212.28654019 170.18834223  49.61304054  28.46407823]\n"
     ]
    }
   ],
   "source": [
    "from sklearn.feature_selection import chi2\n",
    "from sklearn.preprocessing import MinMaxScaler\n",
    "\n",
    "x = MinMaxScaler().fit_transform(train_x)\n",
    "x = np.nan_to_num(x, nan=np.nanmean(x))\n",
    "c2, _ = chi2(x, train_y)\n",
    "\n",
    "idx = np.argsort(np.abs(c2))[::-1]\n",
    "top_cols, top_importances = train_x.columns.values[idx][:5], c2[idx][:5]\n",
    "print(top_cols, top_importances)"
   ]
  },
  {
   "cell_type": "markdown",
   "id": "2bce6a59-cb46-4a22-ac45-91db1805bde0",
   "metadata": {},
   "source": [
    "## 相互情報量"
   ]
  },
  {
   "cell_type": "code",
   "execution_count": 22,
   "id": "b17fa90a-0b7c-4058-a881-e094cea3cdd1",
   "metadata": {},
   "outputs": [
    {
     "name": "stdout",
     "output_type": "stream",
     "text": [
      "['weight' 'age' 'medical_keyword_1' 'medical_info_c1' 'medical_info_a1'] [0.04493014 0.02425523 0.02205501 0.01261546 0.00925141]\n"
     ]
    }
   ],
   "source": [
    "from sklearn.feature_selection import mutual_info_classif\n",
    "\n",
    "x = train_x.select_dtypes(include=int)\n",
    "\n",
    "mi = mutual_info_classif(x, train_y)\n",
    "\n",
    "idx = np.argsort(np.abs(mi))[::-1]\n",
    "top_cols, top_importances = train_x.columns.values[idx][:5], mi[idx][:5]\n",
    "print(top_cols, top_importances)"
   ]
  },
  {
   "cell_type": "markdown",
   "id": "67bed13e-3dfc-4c24-ab9c-0687a7f96a6e",
   "metadata": {},
   "source": [
    "## ランダムフォレストの特徴量の重要度"
   ]
  },
  {
   "cell_type": "code",
   "execution_count": 26,
   "id": "661122e5-5e29-44fd-8d0f-c26539450e45",
   "metadata": {},
   "outputs": [
    {
     "name": "stdout",
     "output_type": "stream",
     "text": [
      "['weight' 'medical_info_a1' 'age' 'medical_info_a2' 'height'] [0.15420126 0.14974574 0.10180357 0.08542085 0.07978597]\n"
     ]
    }
   ],
   "source": [
    "from sklearn.ensemble import RandomForestClassifier\n",
    "\n",
    "clf = RandomForestClassifier(n_estimators=10, random_state=71)\n",
    "x = train_x.fillna(train_x.mean())\n",
    "clf.fit(x, train_y)\n",
    "fi = clf.feature_importances_\n",
    "\n",
    "idx = np.argsort(fi)[::-1]\n",
    "top_cols, top_importances = train_x.columns.values[idx][:5], fi[idx][:5]\n",
    "print(top_cols, top_importances)"
   ]
  },
  {
   "cell_type": "markdown",
   "id": "6d52bf43-6a8f-41d3-8ffd-a2298d2b63de",
   "metadata": {},
   "source": [
    "## gbdtの特徴量の重要度"
   ]
  },
  {
   "cell_type": "code",
   "execution_count": 28,
   "id": "c20e49b9-f61b-4aba-9d2a-5e68ae189b05",
   "metadata": {},
   "outputs": [
    {
     "name": "stdout",
     "output_type": "stream",
     "text": [
      "Collecting xgboost\n",
      "  Downloading xgboost-1.7.1-py3-none-manylinux2014_aarch64.whl (2.6 MB)\n",
      "\u001b[2K     \u001b[90m━━━━━━━━━━━━━━━━━━━━━━━━━━━━━━━━━━━━━━━━\u001b[0m \u001b[32m2.6/2.6 MB\u001b[0m \u001b[31m9.6 MB/s\u001b[0m eta \u001b[36m0:00:00\u001b[0m:00:01\u001b[0m00:01\u001b[0m\n",
      "\u001b[?25hRequirement already satisfied: numpy in /usr/local/lib/python3.11/site-packages (from xgboost) (1.23.4)\n",
      "Requirement already satisfied: scipy in /usr/local/lib/python3.11/site-packages (from xgboost) (1.9.3)\n",
      "Installing collected packages: xgboost\n",
      "Successfully installed xgboost-1.7.1\n",
      "\u001b[33mWARNING: Running pip as the 'root' user can result in broken permissions and conflicting behaviour with the system package manager. It is recommended to use a virtual environment instead: https://pip.pypa.io/warnings/venv\u001b[0m\u001b[33m\n",
      "\u001b[0mNote: you may need to restart the kernel to use updated packages.\n"
     ]
    }
   ],
   "source": [
    "%pip install xgboost"
   ]
  },
  {
   "cell_type": "code",
   "execution_count": 29,
   "id": "11b3bb46-2080-4d8a-ab97-49a4d294f128",
   "metadata": {},
   "outputs": [
    {
     "name": "stdout",
     "output_type": "stream",
     "text": [
      "[23:31:24] WARNING: /workspace/src/learner.cc:767: \n",
      "Parameters: { \"silent\" } are not used.\n",
      "\n",
      "[('weight', 2283.56103515625), ('medical_info_a1', 1778.5419921875), ('height', 1696.2003173828125), ('age', 1156.5743408203125), ('medical_info_a2', 983.0481567382812)]\n"
     ]
    }
   ],
   "source": [
    "import xgboost as xgb\n",
    "\n",
    "dtrain = xgb.DMatrix(train_x, label=train_y)\n",
    "params = {'objective': 'binary:logistic', 'silent': 1, 'random_state': 71}\n",
    "num_round = 50\n",
    "model = xgb.train(params, dtrain, num_round)\n",
    "\n",
    "fscore = model.get_score(importance_type='total_gain')\n",
    "fscore = sorted([(k, v) for k, v in fscore.items()], key=lambda tpl: tpl[1], reverse=True)\n",
    "print(fscore[:5])"
   ]
  },
  {
   "cell_type": "code",
   "execution_count": null,
   "id": "4be29ab2-c47e-4575-b2f3-9544f5dc58a2",
   "metadata": {},
   "outputs": [],
   "source": []
  },
  {
   "cell_type": "code",
   "execution_count": null,
   "id": "bbb137bb-64f3-4695-a38a-63eeda1932c1",
   "metadata": {},
   "outputs": [],
   "source": []
  },
  {
   "cell_type": "code",
   "execution_count": null,
   "id": "13812d4f-6372-4052-a901-e14a6dfe2ac0",
   "metadata": {},
   "outputs": [],
   "source": []
  },
  {
   "cell_type": "code",
   "execution_count": null,
   "id": "9a65eab1-d783-42e1-81e1-c78a491ecfbc",
   "metadata": {},
   "outputs": [],
   "source": []
  },
  {
   "cell_type": "code",
   "execution_count": null,
   "id": "cb0aafe3-49a1-487a-ba33-f9696eab3ef8",
   "metadata": {},
   "outputs": [],
   "source": []
  }
 ],
 "metadata": {
  "kernelspec": {
   "display_name": "Python 3 (ipykernel)",
   "language": "python",
   "name": "python3"
  },
  "language_info": {
   "codemirror_mode": {
    "name": "ipython",
    "version": 3
   },
   "file_extension": ".py",
   "mimetype": "text/x-python",
   "name": "python",
   "nbconvert_exporter": "python",
   "pygments_lexer": "ipython3",
   "version": "3.11.0"
  }
 },
 "nbformat": 4,
 "nbformat_minor": 5
}
