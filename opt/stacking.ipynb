{
 "cells": [
  {
   "cell_type": "markdown",
   "id": "3546283a-6f87-4b4b-8bd6-2db10cb7e976",
   "metadata": {},
   "source": [
    "## Stacking"
   ]
  },
  {
   "cell_type": "code",
   "execution_count": 1,
   "id": "14811359-5ff6-44b7-bf5e-7593c2e19fea",
   "metadata": {},
   "outputs": [],
   "source": [
    "import numpy as np\n",
    "import pandas as pd\n",
    "from sklearn.model_selection import train_test_split\n",
    "\n",
    "data = pd.read_csv('input/sample-data/train.csv')\n",
    "\n",
    "data['date'] = pd.to_datetime(data['date'], format='%Y/%m/%d')\n",
    "data = data.sort_values('date').reset_index()\n",
    "\n",
    "train_x, test_x = train_test_split(data, train_size=0.8, shuffle=False)\n",
    "\n",
    "train_y = train_x['target']\n",
    "train_x = train_x.drop('target', axis=1)\n",
    "\n",
    "test_y = test_x['target']\n",
    "test_x = test_x.drop('target', axis=1)\n",
    "\n",
    "train_x = train_x.select_dtypes(include=[float, int])\n",
    "test_x = test_x.select_dtypes(include=[float, int])"
   ]
  },
  {
   "cell_type": "code",
   "execution_count": 2,
   "id": "9c32a6cd-b06b-43c9-8cad-7ea8cb447b43",
   "metadata": {},
   "outputs": [
    {
     "name": "stderr",
     "output_type": "stream",
     "text": [
      "/usr/local/lib/python3.10/site-packages/tensorflow_io/python/ops/__init__.py:98: UserWarning: unable to load libtensorflow_io_plugins.so: unable to open file: libtensorflow_io_plugins.so, from paths: ['/usr/local/lib/python3.10/site-packages/tensorflow_io/python/ops/libtensorflow_io_plugins.so']\n",
      "caused by: [\"[Errno 2] The file to load file system plugin from does not exist.: '/usr/local/lib/python3.10/site-packages/tensorflow_io/python/ops/libtensorflow_io_plugins.so'\"]\n",
      "  warnings.warn(f\"unable to load libtensorflow_io_plugins.so: {e}\")\n",
      "/usr/local/lib/python3.10/site-packages/tensorflow_io/python/ops/__init__.py:104: UserWarning: file system plugins are not loaded: unable to open file: libtensorflow_io.so, from paths: ['/usr/local/lib/python3.10/site-packages/tensorflow_io/python/ops/libtensorflow_io.so']\n",
      "caused by: ['/usr/local/lib/python3.10/site-packages/tensorflow_io/python/ops/libtensorflow_io.so: cannot open shared object file: No such file or directory']\n",
      "  warnings.warn(f\"file system plugins are not loaded: {e}\")\n"
     ]
    }
   ],
   "source": [
    "from sklearn.metrics import log_loss\n",
    "from sklearn.model_selection import KFold\n",
    "\n",
    "from models import Model1Xgb, Model1NN, Model2Linear\n",
    "\n",
    "def predict_cv(model, train_x, train_y, test_x):\n",
    "    preds = []\n",
    "    preds_test = []\n",
    "    va_idxes = []\n",
    "    \n",
    "    kf = KFold(n_splits=4, shuffle=True, random_state=71)\n",
    "    \n",
    "    for i, (tr_idx, va_idx) in enumerate(kf.split(train_x)):\n",
    "        tr_x, va_x = train_x.iloc[tr_idx], train_x.iloc[va_idx]\n",
    "        tr_y, va_y = train_y.iloc[tr_idx], train_y.iloc[va_idx]\n",
    "        model.fit(tr_x, tr_y, va_x, va_y)\n",
    "        pred = model.predict(va_x)\n",
    "        preds.append(pred)\n",
    "        pred_test = model.predict(test_x)\n",
    "        preds_test.append(pred_test)\n",
    "        va_idxes.append(va_idx)\n",
    "    \n",
    "    va_idxes = np.concatenate(va_idxes)\n",
    "    preds = np.concatenate(preds, axis=0)\n",
    "    order = np.argsort(va_idxes)\n",
    "    pred_train = preds[order]\n",
    "    \n",
    "    preds_test = np.mean(preds_test, axis=0)\n",
    "    return pred_train, preds_test"
   ]
  },
  {
   "cell_type": "code",
   "execution_count": 6,
   "id": "24fca2eb-28f8-4dae-85c5-54fb4bc4fa9c",
   "metadata": {},
   "outputs": [
    {
     "name": "stdout",
     "output_type": "stream",
     "text": [
      "[22:15:43] WARNING: /workspace/src/learner.cc:767: \n",
      "Parameters: { \"silent\" } are not used.\n",
      "\n",
      "[0]\ttrain-logloss:0.54152\teval-logloss:0.54981\n",
      "[1]\ttrain-logloss:0.45050\teval-logloss:0.46866\n",
      "[2]\ttrain-logloss:0.39165\teval-logloss:0.41922\n",
      "[3]\ttrain-logloss:0.35046\teval-logloss:0.38942\n",
      "[4]\ttrain-logloss:0.32201\teval-logloss:0.36968\n",
      "[5]\ttrain-logloss:0.29800\teval-logloss:0.35564\n",
      "[6]\ttrain-logloss:0.27455\teval-logloss:0.34026\n",
      "[7]\ttrain-logloss:0.25541\teval-logloss:0.33181\n",
      "[8]\ttrain-logloss:0.23857\teval-logloss:0.32133\n",
      "[9]\ttrain-logloss:0.22593\teval-logloss:0.31467\n",
      "[22:15:43] WARNING: /workspace/src/learner.cc:767: \n",
      "Parameters: { \"silent\" } are not used.\n",
      "\n",
      "[0]\ttrain-logloss:0.53817\teval-logloss:0.55281\n",
      "[1]\ttrain-logloss:0.44917\teval-logloss:0.47516\n",
      "[2]\ttrain-logloss:0.39010\teval-logloss:0.42682\n",
      "[3]\ttrain-logloss:0.34630\teval-logloss:0.39108\n",
      "[4]\ttrain-logloss:0.31644\teval-logloss:0.36876\n",
      "[5]\ttrain-logloss:0.28724\teval-logloss:0.35166\n",
      "[6]\ttrain-logloss:0.26847\teval-logloss:0.34006\n",
      "[7]\ttrain-logloss:0.25009\teval-logloss:0.32828\n",
      "[8]\ttrain-logloss:0.23800\teval-logloss:0.32067\n",
      "[9]\ttrain-logloss:0.22396\teval-logloss:0.31461\n",
      "[22:15:43] WARNING: /workspace/src/learner.cc:767: \n",
      "Parameters: { \"silent\" } are not used.\n",
      "\n",
      "[0]\ttrain-logloss:0.54009\teval-logloss:0.55226\n",
      "[1]\ttrain-logloss:0.45262\teval-logloss:0.47390\n",
      "[2]\ttrain-logloss:0.39537\teval-logloss:0.42538\n",
      "[3]\ttrain-logloss:0.35445\teval-logloss:0.39091\n",
      "[4]\ttrain-logloss:0.32327\teval-logloss:0.36685\n",
      "[5]\ttrain-logloss:0.29564\teval-logloss:0.34433\n",
      "[6]\ttrain-logloss:0.27742\teval-logloss:0.33105\n",
      "[7]\ttrain-logloss:0.25884\teval-logloss:0.31551\n",
      "[8]\ttrain-logloss:0.24586\teval-logloss:0.30796\n",
      "[9]\ttrain-logloss:0.23257\teval-logloss:0.30126\n",
      "[22:15:43] WARNING: /workspace/src/learner.cc:767: \n",
      "Parameters: { \"silent\" } are not used.\n",
      "\n",
      "[0]\ttrain-logloss:0.54236\teval-logloss:0.54711\n",
      "[1]\ttrain-logloss:0.45695\teval-logloss:0.46524\n",
      "[2]\ttrain-logloss:0.40139\teval-logloss:0.41609\n",
      "[3]\ttrain-logloss:0.35922\teval-logloss:0.37968\n",
      "[4]\ttrain-logloss:0.32747\teval-logloss:0.35284\n",
      "[5]\ttrain-logloss:0.30295\teval-logloss:0.33081\n",
      "[6]\ttrain-logloss:0.28234\teval-logloss:0.31677\n",
      "[7]\ttrain-logloss:0.26930\teval-logloss:0.30766\n",
      "[8]\ttrain-logloss:0.25472\teval-logloss:0.29883\n",
      "[9]\ttrain-logloss:0.23928\teval-logloss:0.28783\n",
      "[22:15:43] WARNING: /workspace/src/learner.cc:767: \n",
      "Parameters: { \"silent\" } are not used.\n",
      "\n",
      "[0]\ttrain-logloss:0.54152\teval-logloss:0.54981\n",
      "[1]\ttrain-logloss:0.45050\teval-logloss:0.46866\n",
      "[2]\ttrain-logloss:0.39165\teval-logloss:0.41922\n",
      "[3]\ttrain-logloss:0.35046\teval-logloss:0.38942\n",
      "[4]\ttrain-logloss:0.32201\teval-logloss:0.36968\n",
      "[5]\ttrain-logloss:0.29800\teval-logloss:0.35564\n",
      "[6]\ttrain-logloss:0.27455\teval-logloss:0.34026\n",
      "[7]\ttrain-logloss:0.25541\teval-logloss:0.33181\n",
      "[8]\ttrain-logloss:0.23857\teval-logloss:0.32133\n",
      "[9]\ttrain-logloss:0.22593\teval-logloss:0.31467\n",
      "[22:15:43] WARNING: /workspace/src/learner.cc:767: \n",
      "Parameters: { \"silent\" } are not used.\n",
      "\n",
      "[0]\ttrain-logloss:0.53817\teval-logloss:0.55281\n",
      "[1]\ttrain-logloss:0.44917\teval-logloss:0.47516\n",
      "[2]\ttrain-logloss:0.39010\teval-logloss:0.42682\n",
      "[3]\ttrain-logloss:0.34630\teval-logloss:0.39108\n",
      "[4]\ttrain-logloss:0.31644\teval-logloss:0.36876\n",
      "[5]\ttrain-logloss:0.28724\teval-logloss:0.35166\n",
      "[6]\ttrain-logloss:0.26847\teval-logloss:0.34006\n",
      "[7]\ttrain-logloss:0.25009\teval-logloss:0.32828\n",
      "[8]\ttrain-logloss:0.23800\teval-logloss:0.32067\n",
      "[9]\ttrain-logloss:0.22396\teval-logloss:0.31461\n",
      "[22:15:43] WARNING: /workspace/src/learner.cc:767: \n",
      "Parameters: { \"silent\" } are not used.\n",
      "\n",
      "[0]\ttrain-logloss:0.54009\teval-logloss:0.55226\n",
      "[1]\ttrain-logloss:0.45262\teval-logloss:0.47390\n",
      "[2]\ttrain-logloss:0.39537\teval-logloss:0.42538\n",
      "[3]\ttrain-logloss:0.35445\teval-logloss:0.39091\n",
      "[4]\ttrain-logloss:0.32327\teval-logloss:0.36685\n",
      "[5]\ttrain-logloss:0.29564\teval-logloss:0.34433\n",
      "[6]\ttrain-logloss:0.27742\teval-logloss:0.33105\n",
      "[7]\ttrain-logloss:0.25884\teval-logloss:0.31551\n",
      "[8]\ttrain-logloss:0.24586\teval-logloss:0.30796\n",
      "[9]\ttrain-logloss:0.23257\teval-logloss:0.30126\n",
      "[22:15:43] WARNING: /workspace/src/learner.cc:767: \n",
      "Parameters: { \"silent\" } are not used.\n",
      "\n",
      "[0]\ttrain-logloss:0.54236\teval-logloss:0.54711\n",
      "[1]\ttrain-logloss:0.45695\teval-logloss:0.46524\n",
      "[2]\ttrain-logloss:0.40139\teval-logloss:0.41609\n",
      "[3]\ttrain-logloss:0.35922\teval-logloss:0.37968\n",
      "[4]\ttrain-logloss:0.32747\teval-logloss:0.35284\n",
      "[5]\ttrain-logloss:0.30295\teval-logloss:0.33081\n",
      "[6]\ttrain-logloss:0.28234\teval-logloss:0.31677\n",
      "[7]\ttrain-logloss:0.26930\teval-logloss:0.30766\n",
      "[8]\ttrain-logloss:0.25472\teval-logloss:0.29883\n",
      "[9]\ttrain-logloss:0.23928\teval-logloss:0.28783\n"
     ]
    }
   ],
   "source": [
    "# 1層目のモデル\n",
    "model_1a = Model1Xgb()\n",
    "pred_train_1a, pred_test_1a = predict_cv(model_1a, train_x, train_y, test_x)\n",
    "model_1b = Model1NN()\n",
    "pred_train_1b, pred_test_1b = predict_cv(model_1a, train_x, train_y, test_x)"
   ]
  },
  {
   "cell_type": "code",
   "execution_count": 9,
   "id": "66bc547d-3794-4fb8-9e29-05378729118f",
   "metadata": {},
   "outputs": [
    {
     "name": "stdout",
     "output_type": "stream",
     "text": [
      "logloss: 0.3046\n",
      "logloss: 0.3046\n"
     ]
    }
   ],
   "source": [
    "# 1層目のモデルの評価\n",
    "print(f'logloss: {log_loss(train_y, pred_train_1a, eps=1e-7):.4f}')\n",
    "print(f'logloss: {log_loss(train_y, pred_train_1b, eps=1e-7):.4f}')"
   ]
  },
  {
   "cell_type": "code",
   "execution_count": 12,
   "id": "829bfdff-fb66-4c93-83bf-b276946bb948",
   "metadata": {},
   "outputs": [],
   "source": [
    "# 予測値を特徴量としてデータフレームを作成\n",
    "train_x_2 = pd.DataFrame({'pred_1a': pred_train_1a, 'pred_1b': pred_train_1b})\n",
    "test_x_2 = pd.DataFrame({'pred_1a': pred_test_1a, 'pred_1b': pred_test_1b})"
   ]
  },
  {
   "cell_type": "code",
   "execution_count": 15,
   "id": "ded7a262-9940-42df-8a8b-0e1fce3a0271",
   "metadata": {},
   "outputs": [
    {
     "name": "stdout",
     "output_type": "stream",
     "text": [
      "logloss: 0.3017\n"
     ]
    }
   ],
   "source": [
    "# 2層目のモデル\n",
    "model_2 = Model2Linear()\n",
    "pred_train_2, pred_test_2 = predict_cv(model_2, train_x_2, train_y, test_x_2)\n",
    "print(f'logloss: {log_loss(train_y, pred_train_2, eps=1e-7):.4f}')"
   ]
  },
  {
   "cell_type": "code",
   "execution_count": null,
   "id": "26ee3a56-2f7f-4cd6-b245-b84e80e994df",
   "metadata": {},
   "outputs": [],
   "source": []
  }
 ],
 "metadata": {
  "kernelspec": {
   "display_name": "Python 3 (ipykernel)",
   "language": "python",
   "name": "python3"
  },
  "language_info": {
   "codemirror_mode": {
    "name": "ipython",
    "version": 3
   },
   "file_extension": ".py",
   "mimetype": "text/x-python",
   "name": "python",
   "nbconvert_exporter": "python",
   "pygments_lexer": "ipython3",
   "version": "3.10.8"
  }
 },
 "nbformat": 4,
 "nbformat_minor": 5
}
