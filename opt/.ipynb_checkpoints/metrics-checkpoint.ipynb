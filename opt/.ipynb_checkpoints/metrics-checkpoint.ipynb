{
 "cells": [
  {
   "cell_type": "code",
   "execution_count": 2,
   "id": "dc75221c-1425-4dbd-9721-7d30e431fb43",
   "metadata": {},
   "outputs": [],
   "source": [
    "import numpy as np"
   ]
  },
  {
   "cell_type": "markdown",
   "id": "388d0965-9561-432d-8514-3045833f377a",
   "metadata": {},
   "source": [
    "# 回帰における評価指標"
   ]
  },
  {
   "cell_type": "markdown",
   "id": "e250e799-68f8-495d-b73d-4e09f92a69a6",
   "metadata": {},
   "source": [
    "## RMSE (Root Mean Squared Error: 平均平方二乗誤差)"
   ]
  },
  {
   "cell_type": "code",
   "execution_count": 8,
   "id": "455e93e4-57a7-4695-a1be-8845b70ed9c8",
   "metadata": {},
   "outputs": [
    {
     "name": "stdout",
     "output_type": "stream",
     "text": [
      "0.5531726674375732\n"
     ]
    }
   ],
   "source": [
    "from sklearn.metrics import mean_squared_error\n",
    "\n",
    "y_true = [1.0, 1.5, 2.0, 1.2, 1.8]\n",
    "y_pred = [0.8, 1.5, 1.8, 1.3, 3.0]\n",
    "\n",
    "value = np.sqrt(mean_squared_error(y_true, y_pred))\n",
    "print(value)"
   ]
  },
  {
   "cell_type": "markdown",
   "id": "48dd81a5-c56d-46ff-a8e2-1ab828922fe7",
   "metadata": {},
   "source": [
    "## RMSLE (Root Mean Squared Logarithmic Error)"
   ]
  },
  {
   "cell_type": "code",
   "execution_count": 7,
   "id": "d3f67643-5b46-44a5-a6ef-c2ecdd7f0696",
   "metadata": {},
   "outputs": [
    {
     "name": "stdout",
     "output_type": "stream",
     "text": [
      "0.17032547044118185\n"
     ]
    }
   ],
   "source": [
    "from sklearn.metrics import mean_squared_log_error\n",
    "\n",
    "y_true = [1.0, 1.5, 2.0, 1.2, 1.8]\n",
    "y_pred = [0.8, 1.5, 1.8, 1.3, 3.0]\n",
    "\n",
    "value = np.sqrt(mean_squared_log_error(y_true, y_pred))\n",
    "print(value)"
   ]
  },
  {
   "cell_type": "markdown",
   "id": "ea686ba7-9d13-44fc-873f-415b259b9b7b",
   "metadata": {},
   "source": [
    "## MAE (Mean Absolute Error)"
   ]
  },
  {
   "cell_type": "code",
   "execution_count": 10,
   "id": "adc5fea9-b84c-4aa0-b8d9-094d98e80e73",
   "metadata": {},
   "outputs": [
    {
     "name": "stdout",
     "output_type": "stream",
     "text": [
      "0.33999999999999997\n"
     ]
    }
   ],
   "source": [
    "from sklearn.metrics import mean_absolute_error\n",
    "\n",
    "y_true = [1.0, 1.5, 2.0, 1.2, 1.8]\n",
    "y_pred = [0.8, 1.5, 1.8, 1.3, 3.0]\n",
    "\n",
    "value = mean_absolute_error(y_true, y_pred)\n",
    "print(value)"
   ]
  },
  {
   "cell_type": "markdown",
   "id": "c9442114-0d0c-4043-8619-b255e087159f",
   "metadata": {},
   "source": [
    "## 決定係数 (R^2)"
   ]
  },
  {
   "cell_type": "code",
   "execution_count": 11,
   "id": "8c023fef-54d2-47e1-a549-fb40273cd88d",
   "metadata": {},
   "outputs": [
    {
     "name": "stdout",
     "output_type": "stream",
     "text": [
      "-1.2499999999999996\n"
     ]
    }
   ],
   "source": [
    "from sklearn.metrics import r2_score\n",
    "\n",
    "y_true = [1.0, 1.5, 2.0, 1.2, 1.8]\n",
    "y_pred = [0.8, 1.5, 1.8, 1.3, 3.0]\n",
    "\n",
    "value = r2_score(y_true, y_pred)\n",
    "print(value)"
   ]
  },
  {
   "cell_type": "markdown",
   "id": "b4ddd621-5ca2-47fe-9c57-18f191cb350c",
   "metadata": {},
   "source": [
    "# 二値分類における評価指標 ~正例か負例かを予測値とする場合"
   ]
  },
  {
   "cell_type": "markdown",
   "id": "3dc77718-9765-4d54-9b6d-b802b9e169db",
   "metadata": {},
   "source": [
    "## 混同行列 (confusion matrix)"
   ]
  },
  {
   "cell_type": "code",
   "execution_count": 19,
   "id": "33e051bd-0bcf-48be-a970-8afdd595d8c7",
   "metadata": {},
   "outputs": [
    {
     "name": "stdout",
     "output_type": "stream",
     "text": [
      "[[3 1]\n",
      " [2 2]]\n",
      "[[2 1]\n",
      " [2 3]]\n"
     ]
    }
   ],
   "source": [
    "from sklearn.metrics import confusion_matrix\n",
    "\n",
    "y_true = [1, 0, 1, 1, 0, 1, 1, 0]\n",
    "y_pred = [0, 0, 1, 1, 0, 0, 1, 1]\n",
    "\n",
    "tp = np.sum((np.array(y_true) == 1) & (np.array(y_pred) == 1))\n",
    "tn = np.sum((np.array(y_true) == 0) & (np.array(y_pred) == 0))\n",
    "fp = np.sum((np.array(y_true) == 0) & (np.array(y_pred) == 1))\n",
    "fn = np.sum((np.array(y_true) == 1) & (np.array(y_pred) == 0))\n",
    "\n",
    "confusion_matrix1 = np.array([[tp, fp], [fn, tn]])\n",
    "print(confusion_matrix1)\n",
    "\n",
    "confusion_matrix2 = confusion_matrix(y_true, y_pred)\n",
    "print(confusion_matrix2)"
   ]
  },
  {
   "cell_type": "markdown",
   "id": "c89a5095-bc5f-48dc-8076-39820ae0a635",
   "metadata": {},
   "source": [
    "## accuracy (正答率)とerror rate (誤答率)"
   ]
  },
  {
   "cell_type": "code",
   "execution_count": 21,
   "id": "c353ca43-d3e8-49d9-949e-14409ce971ad",
   "metadata": {},
   "outputs": [
    {
     "name": "stdout",
     "output_type": "stream",
     "text": [
      "0.625\n"
     ]
    }
   ],
   "source": [
    "from sklearn.metrics import accuracy_score\n",
    "\n",
    "accuracy = accuracy_score(y_true, y_pred)\n",
    "print(accuracy)"
   ]
  },
  {
   "cell_type": "markdown",
   "id": "98b56ff5-2e66-4238-8720-a334a45d6b40",
   "metadata": {},
   "source": [
    "## precision (適合率)とrecall (再現率)"
   ]
  },
  {
   "cell_type": "code",
   "execution_count": 22,
   "id": "b5068ca0-6d5f-499e-a8d2-29f44b1fdd9d",
   "metadata": {},
   "outputs": [
    {
     "name": "stdout",
     "output_type": "stream",
     "text": [
      "0.75\n",
      "0.6\n"
     ]
    }
   ],
   "source": [
    "from sklearn.metrics import precision_score, recall_score\n",
    "\n",
    "precision = precision_score(y_true, y_pred)\n",
    "print(precision)\n",
    "\n",
    "recall = recall_score(y_true, y_pred)\n",
    "print(recall)"
   ]
  },
  {
   "cell_type": "markdown",
   "id": "1baca430-a592-4809-b8a1-51b876289fcd",
   "metadata": {},
   "source": [
    "## F1-scoreとFβ-score"
   ]
  },
  {
   "cell_type": "code",
   "execution_count": 28,
   "id": "9d7d51be-76fe-407f-84e1-a8119f39c95c",
   "metadata": {},
   "outputs": [
    {
     "name": "stdout",
     "output_type": "stream",
     "text": [
      "0.6666666666666665\n",
      "0.625\n"
     ]
    }
   ],
   "source": [
    "from sklearn.metrics import f1_score, fbeta_score\n",
    "\n",
    "f1 = f1_score(y_true, y_pred)\n",
    "print(f1)\n",
    "\n",
    "fbeta = fbeta_score(y_true, y_pred, beta=2)\n",
    "print(fbeta)"
   ]
  },
  {
   "cell_type": "markdown",
   "id": "6005e683-080d-441b-a203-ea44d2ae3135",
   "metadata": {},
   "source": [
    "## MCC (Matthews Correlation Coefficient)"
   ]
  },
  {
   "cell_type": "code",
   "execution_count": 29,
   "id": "bf7fefdd-dec1-402e-80ba-069667676701",
   "metadata": {},
   "outputs": [
    {
     "name": "stdout",
     "output_type": "stream",
     "text": [
      "0.2581988897471611\n"
     ]
    }
   ],
   "source": [
    "from sklearn.metrics import matthews_corrcoef\n",
    "\n",
    "mcc = matthews_corrcoef(y_true, y_pred)\n",
    "print(mcc)"
   ]
  },
  {
   "cell_type": "markdown",
   "id": "1bc4b4cd-1f3d-4975-af21-1c1f416bcfc6",
   "metadata": {},
   "source": [
    "# 二値分類における評価指標 ~正例である確率を予測値とする場合"
   ]
  },
  {
   "cell_type": "markdown",
   "id": "4ef76ae9-d39c-4327-9478-28ad256795a5",
   "metadata": {},
   "source": [
    "## logloss (cross entropy)"
   ]
  },
  {
   "cell_type": "code",
   "execution_count": 30,
   "id": "ba1d122f-9e5b-40b6-9ca6-b489548b001e",
   "metadata": {},
   "outputs": [
    {
     "name": "stdout",
     "output_type": "stream",
     "text": [
      "0.7135581778200728\n"
     ]
    }
   ],
   "source": [
    "from sklearn.metrics import log_loss\n",
    "\n",
    "y_true = [1, 0, 1, 1, 0, 1]\n",
    "y_pred = [0.1, 0.2, 0.8, 0.8, 0.1, 0.3]\n",
    "\n",
    "logloss = log_loss(y_true, y_pred)\n",
    "print(logloss)"
   ]
  },
  {
   "cell_type": "markdown",
   "id": "7ad38893-a71a-4f97-ab3d-5264b4849f2e",
   "metadata": {},
   "source": [
    "## AUC (Area Under the ROC Curve)"
   ]
  },
  {
   "cell_type": "code",
   "execution_count": 31,
   "id": "dc915c9d-f550-471f-807a-557203217630",
   "metadata": {},
   "outputs": [
    {
     "name": "stdout",
     "output_type": "stream",
     "text": [
      "0.8125\n"
     ]
    }
   ],
   "source": [
    "from sklearn.metrics import roc_auc_score\n",
    "\n",
    "auc = roc_auc_score(y_true, y_pred)\n",
    "print(auc)"
   ]
  },
  {
   "cell_type": "markdown",
   "id": "3541fb4f-6943-4121-9870-e61469508379",
   "metadata": {},
   "source": [
    "# 多クラス分類における評価指標"
   ]
  },
  {
   "cell_type": "markdown",
   "id": "c3570332-2be6-48ad-ad28-c1494777ca18",
   "metadata": {},
   "source": [
    "## multi-class accuracy"
   ]
  },
  {
   "cell_type": "code",
   "execution_count": 32,
   "id": "05120ae6-33fc-438d-92e5-1679f7639820",
   "metadata": {},
   "outputs": [
    {
     "name": "stdout",
     "output_type": "stream",
     "text": [
      "0.6\n"
     ]
    }
   ],
   "source": [
    "y_true = [0, 2, 1, 1, 0]\n",
    "y_pred = [0, 1, 1, 2, 0]\n",
    "\n",
    "accuracy = accuracy_score(y_true, y_pred)\n",
    "print(accuracy)"
   ]
  },
  {
   "cell_type": "markdown",
   "id": "df89bd07-751b-444a-924e-1bd7efc572e0",
   "metadata": {},
   "source": [
    "## multi-class logloss"
   ]
  },
  {
   "cell_type": "code",
   "execution_count": 34,
   "id": "a90ba79e-f13a-439f-a9f1-dfd3186156f2",
   "metadata": {},
   "outputs": [
    {
     "name": "stdout",
     "output_type": "stream",
     "text": [
      "0.3300519813908718\n"
     ]
    }
   ],
   "source": [
    "y_true = np.array([0, 2, 1, 1, 0])\n",
    "y_pred = np.array([[0.8, 0.2, 0.0],\n",
    "                   [0.1, 0.3, 0.6],\n",
    "                   [0.1, 0.8, 0.1],\n",
    "                   [0.2, 0.5, 0.3],\n",
    "                   [1.0, 0.0, 0.0]])\n",
    "\n",
    "logloss = log_loss(y_true, y_pred)\n",
    "print(logloss)"
   ]
  },
  {
   "cell_type": "markdown",
   "id": "9be1ca02-52cb-4ba6-a57a-df0a11280e69",
   "metadata": {},
   "source": [
    "## mean-F1とmacro-F1とmicro-F1"
   ]
  },
  {
   "cell_type": "code",
   "execution_count": 47,
   "id": "05641123-8e1e-4fbf-85a7-c7401f74a79c",
   "metadata": {},
   "outputs": [
    {
     "name": "stdout",
     "output_type": "stream",
     "text": [
      "0.5933333333333334\n",
      "0.5523809523809523\n",
      "0.6250000000000001\n",
      "0.5933333333333334\n",
      "0.5523809523809523\n",
      "0.6250000000000001\n"
     ]
    }
   ],
   "source": [
    "from sklearn.preprocessing import MultiLabelBinarizer\n",
    "\n",
    "binarizer = MultiLabelBinarizer()\n",
    "y_true = [[1,2], [1], [1,2,3], [2,3], [3]]\n",
    "y_true = binarizer.fit_transform(y_true)\n",
    "y_pred = [[1,3], [2], [1,3], [3], [3]]\n",
    "y_pred = binarizer.fit_transform(y_pred)\n",
    "\n",
    "mean_f1 = np.mean([f1_score(y_true[i, :], y_pred[i, :]) for i in range(len(y_true))])\n",
    "print(mean_f1)\n",
    "\n",
    "n_class = 3\n",
    "macro_f1 = np.mean([f1_score(y_true[:, c], y_pred[:, c]) for c in range(n_class)])\n",
    "print(macro_f1)\n",
    "\n",
    "micro_f1 = f1_score(y_true.reshape(-1), y_pred.reshape(-1))\n",
    "print(micro_f1)\n",
    "\n",
    "mean_f1 = f1_score(y_true, y_pred, average='samples')\n",
    "print(mean_f1)\n",
    "macro_f1 = f1_score(y_true, y_pred, average='macro')\n",
    "print(macro_f1)\n",
    "micro_f1 = f1_score(y_true, y_pred, average='micro')\n",
    "print(micro_f1)"
   ]
  },
  {
   "cell_type": "markdown",
   "id": "f2913885-1828-46c0-b99b-6d3429ddd265",
   "metadata": {},
   "source": [
    "## quadratic weighted kappa"
   ]
  },
  {
   "cell_type": "code",
   "execution_count": 50,
   "id": "36232eb0-a423-47da-b9ab-0a3ff311e26e",
   "metadata": {},
   "outputs": [
    {
     "data": {
      "text/plain": [
       "0.6153846153846154"
      ]
     },
     "execution_count": 50,
     "metadata": {},
     "output_type": "execute_result"
    }
   ],
   "source": [
    "from sklearn.metrics import cohen_kappa_score\n",
    "\n",
    "y_true = [1, 2, 3, 4, 3]\n",
    "y_pred = [2, 2, 4, 4, 5]\n",
    "\n",
    "cohen_kappa_score(y_true, y_pred, weights='quadratic')"
   ]
  },
  {
   "cell_type": "markdown",
   "id": "09d28c89-8542-4772-9706-26a1385e81a3",
   "metadata": {},
   "source": [
    "# レコメンデーションにおける評価指標"
   ]
  },
  {
   "cell_type": "markdown",
   "id": "7fff6d7b-2f47-4d58-b3e3-efe3fa175d0b",
   "metadata": {},
   "source": [
    "## MAP@K"
   ]
  },
  {
   "cell_type": "code",
   "execution_count": 52,
   "id": "fff5e213-4bc3-49db-a475-9e06b82bb498",
   "metadata": {},
   "outputs": [
    {
     "name": "stdout",
     "output_type": "stream",
     "text": [
      "1.0\n",
      "0.5\n",
      "0.5\n",
      "0.8333333333333334\n"
     ]
    }
   ],
   "source": [
    "#クラスは4種類とする\n",
    "K = 3\n",
    "# 各レコードの真の値\n",
    "y_true = [[1, 2], [4], [1, 2, 3, 4]]\n",
    "# 各レコードに対する予測値 \n",
    "# K=3なので、通常は各レコードにそれぞれ3個まで順位をつけて予測する\n",
    "y_pred = [[1, 2, 4], [1, 4, 3], [1, 2, 3]]\n",
    "\n",
    "\n",
    "# 各レコードごとのaverage precisionを計算する関数\n",
    "# 1/min(m,K) * Σp\n",
    "def apk(y_i_true, y_i_pred):\n",
    "    # y_predがK以下の長さで、要素がすべて異なることが必要\n",
    "    assert (len(y_i_pred) <= K)\n",
    "    assert (len(np.unique(y_i_pred)) == len(y_i_pred))\n",
    "\n",
    "    sum_precision = 0.0\n",
    "    num_hits = 0.0\n",
    "\n",
    "    for i, p in enumerate(y_i_pred):\n",
    "        if p in y_i_true: # 正解の場合のみ足す\n",
    "            num_hits += 1\n",
    "            precision = num_hits / (i + 1)\n",
    "            sum_precision += precision\n",
    "\n",
    "    return sum_precision / min(len(y_i_true), K)\n",
    "\n",
    "\n",
    "# MAP@K を計算する関数\n",
    "def mapk(y_true, y_pred):\n",
    "    return np.mean([apk(y_i_true, y_i_pred) for y_i_true, y_i_pred in zip(y_true, y_pred)])\n",
    "\n",
    "# APの計算結果\n",
    "print(apk(y_true[0], y_pred[0])) # 1.0\n",
    "print(apk(y_true[1], y_pred[1])) # 0.5\n",
    "print(apk(y_true[1], y_pred[1])) # 1.0\n",
    "\n",
    "# MAP@K\n",
    "print(mapk(y_true, y_pred))\n",
    "# 0.833..."
   ]
  },
  {
   "cell_type": "code",
   "execution_count": null,
   "id": "40199b4e-fe02-4cbe-aee1-c13c6c964f97",
   "metadata": {},
   "outputs": [],
   "source": []
  },
  {
   "cell_type": "code",
   "execution_count": null,
   "id": "470975c3-7058-4c0d-834b-820b3d533dc2",
   "metadata": {},
   "outputs": [],
   "source": []
  }
 ],
 "metadata": {
  "kernelspec": {
   "display_name": "Python 3 (ipykernel)",
   "language": "python",
   "name": "python3"
  },
  "language_info": {
   "codemirror_mode": {
    "name": "ipython",
    "version": 3
   },
   "file_extension": ".py",
   "mimetype": "text/x-python",
   "name": "python",
   "nbconvert_exporter": "python",
   "pygments_lexer": "ipython3",
   "version": "3.11.0"
  }
 },
 "nbformat": 4,
 "nbformat_minor": 5
}
