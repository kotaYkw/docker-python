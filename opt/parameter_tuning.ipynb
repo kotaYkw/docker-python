{
 "cells": [
  {
   "cell_type": "markdown",
   "id": "96bf9441-2934-45f0-8f4b-f968d683704c",
   "metadata": {},
   "source": [
    "## グリッドサーチ・ランダムサーチ"
   ]
  },
  {
   "cell_type": "code",
   "execution_count": 1,
   "id": "88a05e22-a196-4546-8979-95074dfab4e4",
   "metadata": {},
   "outputs": [
    {
     "name": "stdout",
     "output_type": "stream",
     "text": [
      "grid_search_params: [(3, 1), (3, 2), (3, 3), (3, 4), (3, 5), (5, 1), (5, 2), (5, 3), (5, 4), (5, 5), (7, 1), (7, 2), (7, 3), (7, 4), (7, 5), (9, 1), (9, 2), (9, 3), (9, 4), (9, 5)]\n",
      "random_search_params: [(3, 3), (9, 1), (5, 1), (3, 3), (3, 5), (3, 2), (3, 1), (9, 5), (3, 3), (3, 4), (5, 1), (7, 1), (3, 3), (9, 1), (9, 3)]\n"
     ]
    }
   ],
   "source": [
    "import numpy as np\n",
    "\n",
    "param1_list = [3, 5, 7, 9]\n",
    "param2_list = [1, 2, 3, 4, 5]\n",
    "\n",
    "# Grid Search\n",
    "grid_search_params = []\n",
    "for p1 in param1_list:\n",
    "    for p2 in param2_list:\n",
    "        grid_search_params.append((p1, p2))\n",
    "print(f'grid_search_params: {grid_search_params}')\n",
    "\n",
    "# Random Search\n",
    "random_search_params = []\n",
    "trials = 15\n",
    "for i in range(trials):\n",
    "    p1 = np.random.choice(param1_list)\n",
    "    p2 = np.random.choice(param2_list)\n",
    "    random_search_params.append((p1, p2))\n",
    "print(f'random_search_params: {random_search_params}')"
   ]
  },
  {
   "cell_type": "markdown",
   "id": "e3029563-f816-47ee-840d-9f60f1c15f26",
   "metadata": {},
   "source": [
    "## hyperopt"
   ]
  },
  {
   "cell_type": "code",
   "execution_count": 2,
   "id": "52d102bf-087b-4fa1-9f47-03a4ef8f22bf",
   "metadata": {},
   "outputs": [
    {
     "name": "stdout",
     "output_type": "stream",
     "text": [
      "Requirement already satisfied: hyperopt in /usr/local/lib/python3.11/site-packages (0.2.7)\n",
      "Requirement already satisfied: numpy in /usr/local/lib/python3.11/site-packages (from hyperopt) (1.23.4)\n",
      "Requirement already satisfied: scipy in /usr/local/lib/python3.11/site-packages (from hyperopt) (1.9.3)\n",
      "Requirement already satisfied: six in /usr/local/lib/python3.11/site-packages (from hyperopt) (1.16.0)\n",
      "Requirement already satisfied: networkx>=2.2 in /usr/local/lib/python3.11/site-packages (from hyperopt) (2.8.8)\n",
      "Requirement already satisfied: future in /usr/local/lib/python3.11/site-packages (from hyperopt) (0.18.2)\n",
      "Requirement already satisfied: tqdm in /usr/local/lib/python3.11/site-packages (from hyperopt) (4.64.1)\n",
      "Requirement already satisfied: cloudpickle in /usr/local/lib/python3.11/site-packages (from hyperopt) (2.2.0)\n",
      "Requirement already satisfied: py4j in /usr/local/lib/python3.11/site-packages (from hyperopt) (0.10.9.7)\n",
      "\u001b[33mWARNING: Running pip as the 'root' user can result in broken permissions and conflicting behaviour with the system package manager. It is recommended to use a virtual environment instead: https://pip.pypa.io/warnings/venv\u001b[0m\u001b[33m\n",
      "\u001b[0mNote: you may need to restart the kernel to use updated packages.\n"
     ]
    }
   ],
   "source": [
    "%pip install hyperopt"
   ]
  },
  {
   "cell_type": "code",
   "execution_count": 4,
   "id": "a798c7ee-4c30-46b4-8024-3dfdb7af3857",
   "metadata": {},
   "outputs": [],
   "source": [
    "import pandas as pd\n",
    "from sklearn.model_selection import train_test_split\n",
    "\n",
    "data = pd.read_csv('input/sample-data/train.csv')\n",
    "\n",
    "data['date'] = pd.to_datetime(data['date'], format='%Y/%m/%d')\n",
    "data = data.sort_values('date').reset_index()\n",
    "\n",
    "train_x, test_x = train_test_split(data, train_size=0.8, shuffle=False)\n",
    "\n",
    "train_y = train_x['target']\n",
    "train_x = train_x.drop('target', axis=1)\n",
    "\n",
    "test_y = test_x['target']\n",
    "test_x = test_x.drop('target', axis=1)"
   ]
  },
  {
   "cell_type": "code",
   "execution_count": 5,
   "id": "de028e7d-f3d4-418a-8ae0-155455dfe712",
   "metadata": {},
   "outputs": [],
   "source": [
    "from hyperopt import fmin, tpe, hp, STATUS_OK, Trials\n",
    "from sklearn.metrics import log_loss\n",
    "from sklearn.linear_model import LogisticRegression\n",
    "\n",
    "def score(params):\n",
    "    params['max_depth'] = int(params['max_depth'])\n",
    "    \n",
    "    model = LogisticRegression(C=1.0)\n",
    "    model.fit(tr_x, tr_y)\n",
    "    "
   ]
  },
  {
   "cell_type": "code",
   "execution_count": null,
   "id": "4936d84d-f73d-4772-8d67-258136f7ae1f",
   "metadata": {},
   "outputs": [],
   "source": []
  },
  {
   "cell_type": "code",
   "execution_count": null,
   "id": "c5da10ef-fdf2-4c96-b4cd-a1e05eb4a8ea",
   "metadata": {},
   "outputs": [],
   "source": []
  },
  {
   "cell_type": "code",
   "execution_count": null,
   "id": "990cb50e-1a35-400b-aeb3-813cd60d8edc",
   "metadata": {},
   "outputs": [],
   "source": []
  },
  {
   "cell_type": "code",
   "execution_count": null,
   "id": "c476d3ff-5296-4ecc-a8b4-16df41426809",
   "metadata": {},
   "outputs": [],
   "source": []
  },
  {
   "cell_type": "code",
   "execution_count": null,
   "id": "dcb2bf4d-7868-4892-9bbe-e9c1ae772b7e",
   "metadata": {},
   "outputs": [],
   "source": []
  },
  {
   "cell_type": "code",
   "execution_count": null,
   "id": "3a87ee95-195e-4ef7-b7e9-ef0616cf976b",
   "metadata": {},
   "outputs": [],
   "source": []
  },
  {
   "cell_type": "code",
   "execution_count": null,
   "id": "1e7746c5-6383-4250-8dec-546a08d06df2",
   "metadata": {},
   "outputs": [],
   "source": []
  }
 ],
 "metadata": {
  "kernelspec": {
   "display_name": "Python 3 (ipykernel)",
   "language": "python",
   "name": "python3"
  },
  "language_info": {
   "codemirror_mode": {
    "name": "ipython",
    "version": 3
   },
   "file_extension": ".py",
   "mimetype": "text/x-python",
   "name": "python",
   "nbconvert_exporter": "python",
   "pygments_lexer": "ipython3",
   "version": "3.11.0"
  }
 },
 "nbformat": 4,
 "nbformat_minor": 5
}
