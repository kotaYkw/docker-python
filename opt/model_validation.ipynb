{
 "cells": [
  {
   "cell_type": "code",
   "execution_count": 2,
   "id": "f7682260-6200-4d58-b2e4-8134976c0f92",
   "metadata": {},
   "outputs": [
    {
     "name": "stdout",
     "output_type": "stream",
     "text": [
      "(120, 4)\n",
      "(120, 1)\n"
     ]
    }
   ],
   "source": [
    "import numpy as np\n",
    "import pandas as pd\n",
    "from sklearn.datasets import load_iris\n",
    "from sklearn.model_selection import train_test_split\n",
    "\n",
    "data = load_iris()\n",
    "train_x, test_x = train_test_split(data.data, train_size=0.8, shuffle=False)\n",
    "train_y, test_y = train_test_split(data.target, train_size=0.8, shuffle=False)\n",
    "train_x = pd.DataFrame(train_x, columns=data['feature_names'])\n",
    "test_x = pd.DataFrame(test_x, columns=data['feature_names'])\n",
    "train_y = pd.DataFrame(train_y)\n",
    "test_y = pd.DataFrame(test_y)\n",
    "\n",
    "print(train_x.shape)\n",
    "print(train_y.shape)"
   ]
  },
  {
   "cell_type": "markdown",
   "id": "6ae88563-fedb-4eb2-a273-0aa3035dd0e3",
   "metadata": {},
   "source": [
    "## Stratified k-fold"
   ]
  },
  {
   "cell_type": "code",
   "execution_count": 4,
   "id": "2fbea78b-ebd9-4850-8f00-c526af19c056",
   "metadata": {},
   "outputs": [
    {
     "name": "stdout",
     "output_type": "stream",
     "text": [
      "logloss 0.1334\n",
      "acc 0.0667\n",
      "logloss 0.1410\n",
      "acc 0.0333\n",
      "logloss 0.1451\n",
      "acc 0.0333\n",
      "logloss 0.0918\n",
      "acc 0.0000\n"
     ]
    }
   ],
   "source": [
    "from sklearn.linear_model import LogisticRegression\n",
    "from sklearn.metrics import log_loss\n",
    "from sklearn.metrics import accuracy_score\n",
    "from sklearn.preprocessing import StandardScaler\n",
    "from sklearn.model_selection import StratifiedKFold\n",
    "\n",
    "kf = StratifiedKFold(n_splits=4, shuffle=True, random_state=71)\n",
    "for tr_idx, va_idx in kf.split(train_x, train_y):\n",
    "    tr_x, va_x = train_x.iloc[tr_idx], train_x.iloc[va_idx]\n",
    "    tr_y, va_y = train_y.iloc[tr_idx], train_y.iloc[va_idx]\n",
    "    \n",
    "    scaler = StandardScaler()\n",
    "    tr_x = scaler.fit_transform(tr_x)\n",
    "    va_x = scaler.fit_transform(va_x)\n",
    "    test_x = scaler.fit_transform(test_x)\n",
    "    \n",
    "    model = LogisticRegression(C=1.0)\n",
    "    model.fit(tr_x, np.ravel(tr_y.values))\n",
    "    \n",
    "    va_pred = model.predict_proba(va_x)\n",
    "    score = log_loss(va_y, va_pred)\n",
    "    print(f'logloss {score:.4f}')\n",
    "    \n",
    "    pred = model.predict(test_x)\n",
    "    \n",
    "    acc = accuracy_score(test_y.values, pred)\n",
    "    print(f'acc {acc:.4f}')"
   ]
  },
  {
   "cell_type": "markdown",
   "id": "1f737740-6187-4e26-91d3-e55ce3d3ef5b",
   "metadata": {},
   "source": [
    "## Leave-one-out"
   ]
  },
  {
   "cell_type": "code",
   "execution_count": 8,
   "id": "5d8c5f43-8430-4f7c-b78e-0793ecdbae05",
   "metadata": {},
   "outputs": [
    {
     "name": "stdout",
     "output_type": "stream",
     "text": [
      "count: 120\n"
     ]
    }
   ],
   "source": [
    "from sklearn.model_selection import LeaveOneOut\n",
    "\n",
    "kf = LeaveOneOut()\n",
    "i = 0\n",
    "for tr_idx, va_idx in kf.split(train_x):\n",
    "    i+=1\n",
    "    tr_x, va_x = train_x.iloc[tr_idx], train_x.iloc[va_idx]\n",
    "    tr_y, va_y = train_y.iloc[tr_idx], train_y.iloc[va_idx]\n",
    "print(f'count: {i}')"
   ]
  },
  {
   "cell_type": "code",
   "execution_count": 38,
   "id": "c5b5f5cc-f8b9-4754-9fbb-3f1c3504742a",
   "metadata": {},
   "outputs": [],
   "source": [
    "data = pd.read_csv('input/sample-data/train.csv')\n",
    "\n",
    "data['date'] = pd.to_datetime(data['date'], format='%Y/%m/%d')\n",
    "data = data.sort_values('date').reset_index()\n",
    "\n",
    "train_x, test_x = train_test_split(data, train_size=0.8, shuffle=False)\n",
    "\n",
    "train_y = train_x['target']\n",
    "train_x = train_x.drop('target', axis=1)\n",
    "\n",
    "test_y = test_x['target']\n",
    "test_x = test_x.drop('target', axis=1)"
   ]
  },
  {
   "cell_type": "markdown",
   "id": "92b54dd6-2994-4dcb-bf06-0e919e0dffaa",
   "metadata": {},
   "source": [
    "## 時系列データのCV"
   ]
  },
  {
   "cell_type": "code",
   "execution_count": 41,
   "id": "a558d25e-4949-4bb6-9d92-8383d9de2674",
   "metadata": {},
   "outputs": [],
   "source": [
    "from sklearn.model_selection import TimeSeriesSplit\n",
    "\n",
    "tss = TimeSeriesSplit(n_splits=4)\n",
    "for tr_idx, va_idx in tss.split(train_x):\n",
    "    tr_x, va_x = train_x.iloc[tr_idx], train_x.iloc[va_idx]\n",
    "    tr_y, va_y = train_y.iloc[tr_idx], train_y.iloc[va_idx]"
   ]
  },
  {
   "cell_type": "code",
   "execution_count": 63,
   "id": "f29278c7-7c52-4d39-90fe-164358008a69",
   "metadata": {},
   "outputs": [],
   "source": [
    "train_len = len(train_x)\n",
    "period = 0\n",
    "train_split = int(train_len/4)\n",
    "train_x['period'] = 0\n",
    "for i in range(0, train_len, train_split):\n",
    "    train_x.loc[i:i+train_split, 'period'] = period\n",
    "    period += 1\n",
    "train_x['period'].value_counts()\n",
    "\n",
    "va_period_list = [0, 1, 2, 3]\n",
    "for va_period in va_period_list:\n",
    "    is_tr = train_x['period'] != va_period\n",
    "    is_va = train_x['period'] == va_period\n",
    "    tr_x, va_x = train_x[is_tr], train_x[is_va]\n",
    "    tr_y, va_y = train_y[is_tr], train_y[is_va]"
   ]
  },
  {
   "cell_type": "code",
   "execution_count": null,
   "id": "dc093283-d8a6-4078-8a96-20108aa3b619",
   "metadata": {},
   "outputs": [],
   "source": []
  },
  {
   "cell_type": "code",
   "execution_count": null,
   "id": "15bf2375-921a-40cf-8710-6acbd361e1a1",
   "metadata": {},
   "outputs": [],
   "source": []
  }
 ],
 "metadata": {
  "kernelspec": {
   "display_name": "Python 3 (ipykernel)",
   "language": "python",
   "name": "python3"
  },
  "language_info": {
   "codemirror_mode": {
    "name": "ipython",
    "version": 3
   },
   "file_extension": ".py",
   "mimetype": "text/x-python",
   "name": "python",
   "nbconvert_exporter": "python",
   "pygments_lexer": "ipython3",
   "version": "3.11.0"
  }
 },
 "nbformat": 4,
 "nbformat_minor": 5
}
