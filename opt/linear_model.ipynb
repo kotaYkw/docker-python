{
 "cells": [
  {
   "cell_type": "code",
   "execution_count": 4,
   "id": "d9ba6a3d-b01d-4ddb-8f76-4c445a24e2a9",
   "metadata": {},
   "outputs": [
    {
     "name": "stdout",
     "output_type": "stream",
     "text": [
      "(120, 4)\n",
      "(120, 1)\n"
     ]
    }
   ],
   "source": [
    "import numpy as np\n",
    "import pandas as pd\n",
    "from sklearn.datasets import load_iris\n",
    "from sklearn.model_selection import train_test_split\n",
    "\n",
    "data = load_iris()\n",
    "train_x, test_x = train_test_split(data.data, train_size=0.8, shuffle=False)\n",
    "train_y, test_y = train_test_split(data.target, train_size=0.8, shuffle=False)\n",
    "train_x = pd.DataFrame(train_x, columns=data['feature_names'])\n",
    "test_x = pd.DataFrame(test_x, columns=data['feature_names'])\n",
    "train_y = pd.DataFrame(train_y)\n",
    "test_y = pd.DataFrame(test_y)\n",
    "\n",
    "print(train_x.shape)\n",
    "print(train_y.shape)\n",
    "\n",
    "num_cols = train.shape[1]"
   ]
  },
  {
   "cell_type": "markdown",
   "id": "b7adf765-d812-4ee1-acb7-3dbc0703884b",
   "metadata": {},
   "source": [
    "## 線形モデル"
   ]
  },
  {
   "cell_type": "code",
   "execution_count": 11,
   "id": "e720b7a4-105b-4083-b0bf-1456f9bba52f",
   "metadata": {},
   "outputs": [
    {
     "name": "stdout",
     "output_type": "stream",
     "text": [
      "logloss 0.0959\n",
      "acc 0.0333\n",
      "logloss 0.2366\n",
      "acc 0.0333\n",
      "logloss 0.1411\n",
      "acc 0.0667\n",
      "logloss 0.1185\n",
      "acc 0.0333\n"
     ]
    }
   ],
   "source": [
    "from sklearn.linear_model import LogisticRegression\n",
    "from sklearn.metrics import log_loss\n",
    "from sklearn.metrics import accuracy_score\n",
    "from sklearn.preprocessing import StandardScaler\n",
    "from sklearn.model_selection import KFold\n",
    "\n",
    "kf = KFold(n_splits=4, shuffle=True, random_state=71)\n",
    "for tr_idx, va_idx in kf.split(train_x):\n",
    "    tr_x, va_x = train_x.iloc[tr_idx], train_x.iloc[va_idx]\n",
    "    tr_y, va_y = train_y.iloc[tr_idx], train_y.iloc[va_idx]\n",
    "    \n",
    "    scaler = StandardScaler()\n",
    "    tr_x = scaler.fit_transform(tr_x)\n",
    "    va_x = scaler.fit_transform(va_x)\n",
    "    test_x = scaler.fit_transform(test_x)\n",
    "    \n",
    "    model = LogisticRegression(C=1.0)\n",
    "    model.fit(tr_x, np.ravel(tr_y.values))\n",
    "    \n",
    "    va_pred = model.predict_proba(va_x)\n",
    "    score = log_loss(va_y, va_pred)\n",
    "    print(f'logloss {score:.4f}')\n",
    "    \n",
    "    pred = model.predict(test_x)\n",
    "    \n",
    "    acc = accuracy_score(test_y.values, pred)\n",
    "    print(f'acc {acc:.4f}')"
   ]
  }
 ],
 "metadata": {
  "kernelspec": {
   "display_name": "Python 3 (ipykernel)",
   "language": "python",
   "name": "python3"
  },
  "language_info": {
   "codemirror_mode": {
    "name": "ipython",
    "version": 3
   },
   "file_extension": ".py",
   "mimetype": "text/x-python",
   "name": "python",
   "nbconvert_exporter": "python",
   "pygments_lexer": "ipython3",
   "version": "3.11.0"
  }
 },
 "nbformat": 4,
 "nbformat_minor": 5
}
