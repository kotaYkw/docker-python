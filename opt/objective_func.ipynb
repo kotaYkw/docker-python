{
 "cells": [
  {
   "cell_type": "markdown",
   "id": "a7a95619-1f5a-4b93-86e2-55dbe3918ed5",
   "metadata": {},
   "source": [
    "## 閾値の最適化\n",
    "Nerder-Meadを使用する例"
   ]
  },
  {
   "cell_type": "code",
   "execution_count": 12,
   "id": "50116ffe-c94f-443e-92de-e9e82a218a00",
   "metadata": {},
   "outputs": [
    {
     "name": "stdout",
     "output_type": "stream",
     "text": [
      "0.5 0.7224831529507862\n",
      "0.32324218749999983 0.7557317703844165\n"
     ]
    }
   ],
   "source": [
    "import numpy as np\n",
    "import pandas as pd\n",
    "from sklearn.metrics import f1_score\n",
    "from scipy.optimize import minimize\n",
    "\n",
    "rand = np.random.RandomState(seed=71)\n",
    "train_y_prob = np.linspace(0, 1.0, 10000)\n",
    "\n",
    "train_y = pd.Series(rand.uniform(0.0, 1.0, train_y_prob.size) < train_y_prob)\n",
    "train_pred_prob = np.clip(train_y_prob * np.exp(rand.standard_normal(train_y_prob.shape) * 0.3), 0.0, 1.0)\n",
    "\n",
    "init_threshold = 0.5\n",
    "init_score = f1_score(train_y, train_pred_prob >= init_threshold)\n",
    "print(init_threshold, init_score)\n",
    "\n",
    "result = minimize(lambda x: -f1_score(train_y, train_pred_prob >= x), \n",
    "                  x0=np.array([0.5]), \n",
    "                  method=\"Nelder-Mead\")\n",
    "best_threshold = result['x'].item()\n",
    "best_score = f1_score(train_y, train_pred_prob >= best_threshold)\n",
    "print(best_threshold, best_score)"
   ]
  },
  {
   "cell_type": "markdown",
   "id": "a685af6b-071e-46bf-bfba-51b30e5ee495",
   "metadata": {},
   "source": [
    "## out-of-fold"
   ]
  },
  {
   "cell_type": "code",
   "execution_count": 17,
   "id": "26377e88-ebe0-442d-beb2-60a802365872",
   "metadata": {},
   "outputs": [
    {
     "name": "stdout",
     "output_type": "stream",
     "text": [
      "0.34257812499999984 0.7559183673469387 0.7570422535211268\n",
      "0.34277343749999983 0.7598457403295548 0.7450980392156863\n",
      "0.31787109374999983 0.7548253676470588 0.7584803256445047\n",
      "0.3234374999999998 0.7545569184913447 0.7588603196664351\n",
      "0.33166503906249983\n"
     ]
    }
   ],
   "source": [
    "from sklearn.model_selection import KFold\n",
    "\n",
    "thresholds = []\n",
    "scores_tr = []\n",
    "scores_va = []\n",
    "\n",
    "kf = KFold(n_splits=4, random_state=71, shuffle=True)\n",
    "for i, (tr_idx, va_idx) in enumerate(kf.split(train_pred_prob)):\n",
    "    tr_pred_prob, va_pred_prob = train_pred_prob[tr_idx], train_pred_prob[va_idx]\n",
    "    tr_y, va_y = train_y.iloc[tr_idx], train_y.iloc[va_idx]\n",
    "    \n",
    "    result = minimize(lambda x: -f1_score(tr_y, tr_pred_prob >= x), \n",
    "                  x0=np.array([0.5]), \n",
    "                  method=\"Nelder-Mead\")\n",
    "    threshold = result['x'].item()\n",
    "    score_tr = f1_score(tr_y, tr_pred_prob >= threshold)\n",
    "    score_va = f1_score(va_y, va_pred_prob >= threshold)\n",
    "    print(threshold, score_tr, score_va)\n",
    "    \n",
    "    thresholds.append(threshold)\n",
    "    scores_tr.append(score_tr)\n",
    "    scores_va.append(score_va)\n",
    "    \n",
    "threshold_test = np.mean(thresholds)\n",
    "print(threshold_test)"
   ]
  },
  {
   "cell_type": "code",
   "execution_count": null,
   "id": "e04b8364-4585-4f07-a4fc-c4d049189a0f",
   "metadata": {},
   "outputs": [],
   "source": []
  },
  {
   "cell_type": "code",
   "execution_count": null,
   "id": "078508f3-3517-48da-8a54-7de121078b2d",
   "metadata": {},
   "outputs": [],
   "source": []
  },
  {
   "cell_type": "code",
   "execution_count": null,
   "id": "6ca975b8-f7a3-493f-a7e7-1fb006a815da",
   "metadata": {},
   "outputs": [],
   "source": []
  },
  {
   "cell_type": "code",
   "execution_count": null,
   "id": "342752d0-7c3a-4ec0-b29a-acb844f7dc73",
   "metadata": {},
   "outputs": [],
   "source": []
  },
  {
   "cell_type": "code",
   "execution_count": null,
   "id": "7bc42c3d-59d5-41bd-bd96-d9f3dce0e349",
   "metadata": {},
   "outputs": [],
   "source": []
  },
  {
   "cell_type": "code",
   "execution_count": null,
   "id": "dcf08344-6c4c-42a8-a356-84c025cd8e7d",
   "metadata": {},
   "outputs": [],
   "source": []
  },
  {
   "cell_type": "code",
   "execution_count": null,
   "id": "d6e4d955-fdfb-4ef3-9f77-e5c3c5ab3436",
   "metadata": {},
   "outputs": [],
   "source": []
  },
  {
   "cell_type": "code",
   "execution_count": null,
   "id": "1392baec-7380-44e6-9d27-415e8f504043",
   "metadata": {},
   "outputs": [],
   "source": []
  },
  {
   "cell_type": "code",
   "execution_count": null,
   "id": "dac03df4-5f61-4c4d-946e-63fb7ff20686",
   "metadata": {},
   "outputs": [],
   "source": []
  },
  {
   "cell_type": "code",
   "execution_count": null,
   "id": "0e359f1d-cfb0-4309-855e-ae275269b089",
   "metadata": {},
   "outputs": [],
   "source": []
  },
  {
   "cell_type": "code",
   "execution_count": null,
   "id": "fa4f3040-46ae-4462-bf35-ca4b6159b0b5",
   "metadata": {},
   "outputs": [],
   "source": []
  },
  {
   "cell_type": "code",
   "execution_count": null,
   "id": "b39ac646-fb6e-4035-8c75-e1c62bb04555",
   "metadata": {},
   "outputs": [],
   "source": []
  },
  {
   "cell_type": "code",
   "execution_count": null,
   "id": "30aa69fa-2077-4dbf-b671-b53271cd11c4",
   "metadata": {},
   "outputs": [],
   "source": []
  },
  {
   "cell_type": "code",
   "execution_count": null,
   "id": "0974628a-40a9-489b-a9a6-1e1fd4d2aa9d",
   "metadata": {},
   "outputs": [],
   "source": []
  }
 ],
 "metadata": {
  "kernelspec": {
   "display_name": "Python 3 (ipykernel)",
   "language": "python",
   "name": "python3"
  },
  "language_info": {
   "codemirror_mode": {
    "name": "ipython",
    "version": 3
   },
   "file_extension": ".py",
   "mimetype": "text/x-python",
   "name": "python",
   "nbconvert_exporter": "python",
   "pygments_lexer": "ipython3",
   "version": "3.11.0"
  }
 },
 "nbformat": 4,
 "nbformat_minor": 5
}
